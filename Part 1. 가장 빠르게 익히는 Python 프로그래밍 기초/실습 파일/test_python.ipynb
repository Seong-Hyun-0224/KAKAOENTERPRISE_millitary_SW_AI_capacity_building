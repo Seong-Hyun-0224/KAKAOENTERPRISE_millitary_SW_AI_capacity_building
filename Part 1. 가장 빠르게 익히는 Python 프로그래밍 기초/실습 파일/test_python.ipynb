{
 "cells": [
  {
   "cell_type": "code",
   "execution_count": 1,
   "metadata": {},
   "outputs": [
    {
     "name": "stdout",
     "output_type": "stream",
     "text": [
      "3\n"
     ]
    }
   ],
   "source": [
    "# <- 주석 (comment)\n",
    "\n",
    "a = 3\n",
    "print(a) # shift + Enter\n",
    "\n",
    "# 편집 모드 ( edit mode) -> ESC -> 명령 모드 (commend mode) -> Enter -> 편집 모드(클릭으로도 가능)\n",
    "\n",
    "# X / C / V : 셀의 잘라내기 / 복사 / 붙여넣기\n",
    "# A(bove) / B(elow) : 위에 / 아래에 셀 추가\n",
    "# DD(elete) : 셀 삭제\n",
    "# Z : 지운 셀 되살리기\n",
    "\n",
    "# M(arkdown) : (코드 셀을) 마크다운 셀로 변경(-> Y)"
   ]
  },
  {
   "cell_type": "markdown",
   "metadata": {},
   "source": [
    "마크다운 명령어( 명령모드에서 M 혹은 Cell->code type으로 진입)\n",
    "\n",
    "## 두 번째로 큰 제목\n",
    "#의 갯수에 따라 몇 번째로 큰 제목이냐가 결정된다.\n",
    "#이 적을수록 큰 크기의 제목이다.\n",
    "인터넷에 마큳운 명령어 잘 나와있으니 외워쓰진 말고 검색해서 보고 써라.\n",
    "\n",
    "**이것은 굵은 굴씨**\n",
    "\n",
    "> 이것은 인용문\n",
    "\n",
    "- 1번 항목\n",
    "- 2번 항목\n",
    "- 3번 항목\n",
    "\n",
    "front-end의 언어인 HTML 코드또한 여기서 쓸 수 있다.\n",
    "\n",
    "<p style='color:red;'> 이것은 HTML P 태그 입니다 </p>\n",
    "<hr>"
   ]
  },
  {
   "cell_type": "code",
   "execution_count": null,
   "metadata": {},
   "outputs": [],
   "source": [
    "pr # Tab : 함수 자동완성"
   ]
  },
  {
   "cell_type": "code",
   "execution_count": null,
   "metadata": {},
   "outputs": [],
   "source": [
    "y = f(x)"
   ]
  },
  {
   "cell_type": "code",
   "execution_count": null,
   "metadata": {},
   "outputs": [],
   "source": [
    "print() # Shift + Tab"
   ]
  },
  {
   "cell_type": "code",
   "execution_count": null,
   "metadata": {},
   "outputs": [],
   "source": []
  }
 ],
 "metadata": {
  "kernelspec": {
   "display_name": "Python 3",
   "language": "python",
   "name": "python3"
  },
  "language_info": {
   "codemirror_mode": {
    "name": "ipython",
    "version": 3
   },
   "file_extension": ".py",
   "mimetype": "text/x-python",
   "name": "python",
   "nbconvert_exporter": "python",
   "pygments_lexer": "ipython3",
   "version": "3.8.5"
  }
 },
 "nbformat": 4,
 "nbformat_minor": 4
}
